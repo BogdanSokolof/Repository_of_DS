{
 "cells": [
  {
   "cell_type": "code",
   "execution_count": 36,
   "id": "2b2508eb",
   "metadata": {},
   "outputs": [
    {
     "data": {
      "text/html": [
       "<div>\n",
       "<style scoped>\n",
       "    .dataframe tbody tr th:only-of-type {\n",
       "        vertical-align: middle;\n",
       "    }\n",
       "\n",
       "    .dataframe tbody tr th {\n",
       "        vertical-align: top;\n",
       "    }\n",
       "\n",
       "    .dataframe thead th {\n",
       "        text-align: right;\n",
       "    }\n",
       "</style>\n",
       "<table border=\"1\" class=\"dataframe\">\n",
       "  <thead>\n",
       "    <tr style=\"text-align: right;\">\n",
       "      <th></th>\n",
       "      <th>hotel_address</th>\n",
       "      <th>additional_number_of_scoring</th>\n",
       "      <th>review_date</th>\n",
       "      <th>average_score</th>\n",
       "      <th>hotel_name</th>\n",
       "      <th>reviewer_nationality</th>\n",
       "      <th>negative_review</th>\n",
       "      <th>review_total_negative_word_counts</th>\n",
       "      <th>total_number_of_reviews</th>\n",
       "      <th>positive_review</th>\n",
       "      <th>review_total_positive_word_counts</th>\n",
       "      <th>total_number_of_reviews_reviewer_has_given</th>\n",
       "      <th>reviewer_score</th>\n",
       "      <th>tags</th>\n",
       "      <th>days_since_review</th>\n",
       "      <th>lat</th>\n",
       "      <th>lng</th>\n",
       "    </tr>\n",
       "  </thead>\n",
       "  <tbody>\n",
       "    <tr>\n",
       "      <th>0</th>\n",
       "      <td>Stratton Street Mayfair Westminster Borough Lo...</td>\n",
       "      <td>581</td>\n",
       "      <td>2/19/2016</td>\n",
       "      <td>8.4</td>\n",
       "      <td>The May Fair Hotel</td>\n",
       "      <td>United Kingdom</td>\n",
       "      <td>Leaving</td>\n",
       "      <td>3</td>\n",
       "      <td>1994</td>\n",
       "      <td>Staff were amazing</td>\n",
       "      <td>4</td>\n",
       "      <td>7</td>\n",
       "      <td>10.0</td>\n",
       "      <td>[' Leisure trip ', ' Couple ', ' Studio Suite ...</td>\n",
       "      <td>531 day</td>\n",
       "      <td>51.507894</td>\n",
       "      <td>-0.143671</td>\n",
       "    </tr>\n",
       "    <tr>\n",
       "      <th>1</th>\n",
       "      <td>130 134 Southampton Row Camden London WC1B 5AF...</td>\n",
       "      <td>299</td>\n",
       "      <td>1/12/2017</td>\n",
       "      <td>8.3</td>\n",
       "      <td>Mercure London Bloomsbury Hotel</td>\n",
       "      <td>United Kingdom</td>\n",
       "      <td>poor breakfast</td>\n",
       "      <td>3</td>\n",
       "      <td>1361</td>\n",
       "      <td>location</td>\n",
       "      <td>2</td>\n",
       "      <td>14</td>\n",
       "      <td>6.3</td>\n",
       "      <td>[' Business trip ', ' Couple ', ' Standard Dou...</td>\n",
       "      <td>203 day</td>\n",
       "      <td>51.521009</td>\n",
       "      <td>-0.123097</td>\n",
       "    </tr>\n",
       "    <tr>\n",
       "      <th>2</th>\n",
       "      <td>151 bis Rue de Rennes 6th arr 75006 Paris France</td>\n",
       "      <td>32</td>\n",
       "      <td>10/18/2016</td>\n",
       "      <td>8.9</td>\n",
       "      <td>Legend Saint Germain by Elegancia</td>\n",
       "      <td>China</td>\n",
       "      <td>No kettle in room</td>\n",
       "      <td>6</td>\n",
       "      <td>406</td>\n",
       "      <td>No Positive</td>\n",
       "      <td>0</td>\n",
       "      <td>14</td>\n",
       "      <td>7.5</td>\n",
       "      <td>[' Leisure trip ', ' Solo traveler ', ' Modern...</td>\n",
       "      <td>289 day</td>\n",
       "      <td>48.845377</td>\n",
       "      <td>2.325643</td>\n",
       "    </tr>\n",
       "    <tr>\n",
       "      <th>3</th>\n",
       "      <td>216 Avenue Jean Jaures 19th arr 75019 Paris Fr...</td>\n",
       "      <td>34</td>\n",
       "      <td>9/22/2015</td>\n",
       "      <td>7.5</td>\n",
       "      <td>Mercure Paris 19 Philharmonie La Villette</td>\n",
       "      <td>United Kingdom</td>\n",
       "      <td>No Negative</td>\n",
       "      <td>0</td>\n",
       "      <td>607</td>\n",
       "      <td>Friendly staff quiet comfortable room spotles...</td>\n",
       "      <td>11</td>\n",
       "      <td>8</td>\n",
       "      <td>10.0</td>\n",
       "      <td>[' Leisure trip ', ' Solo traveler ', ' Standa...</td>\n",
       "      <td>681 day</td>\n",
       "      <td>48.888697</td>\n",
       "      <td>2.394540</td>\n",
       "    </tr>\n",
       "    <tr>\n",
       "      <th>4</th>\n",
       "      <td>Molenwerf 1 1014 AG Amsterdam Netherlands</td>\n",
       "      <td>914</td>\n",
       "      <td>3/5/2016</td>\n",
       "      <td>8.5</td>\n",
       "      <td>Golden Tulip Amsterdam West</td>\n",
       "      <td>Poland</td>\n",
       "      <td>Torn sheets</td>\n",
       "      <td>4</td>\n",
       "      <td>7586</td>\n",
       "      <td>The staff was very friendly and helpful Break...</td>\n",
       "      <td>20</td>\n",
       "      <td>10</td>\n",
       "      <td>9.6</td>\n",
       "      <td>[' Business trip ', ' Couple ', ' Standard Dou...</td>\n",
       "      <td>516 day</td>\n",
       "      <td>52.385601</td>\n",
       "      <td>4.847060</td>\n",
       "    </tr>\n",
       "  </tbody>\n",
       "</table>\n",
       "</div>"
      ],
      "text/plain": [
       "                                       hotel_address  \\\n",
       "0  Stratton Street Mayfair Westminster Borough Lo...   \n",
       "1  130 134 Southampton Row Camden London WC1B 5AF...   \n",
       "2   151 bis Rue de Rennes 6th arr 75006 Paris France   \n",
       "3  216 Avenue Jean Jaures 19th arr 75019 Paris Fr...   \n",
       "4          Molenwerf 1 1014 AG Amsterdam Netherlands   \n",
       "\n",
       "   additional_number_of_scoring review_date  average_score  \\\n",
       "0                           581   2/19/2016            8.4   \n",
       "1                           299   1/12/2017            8.3   \n",
       "2                            32  10/18/2016            8.9   \n",
       "3                            34   9/22/2015            7.5   \n",
       "4                           914    3/5/2016            8.5   \n",
       "\n",
       "                                  hotel_name reviewer_nationality  \\\n",
       "0                         The May Fair Hotel      United Kingdom    \n",
       "1            Mercure London Bloomsbury Hotel      United Kingdom    \n",
       "2          Legend Saint Germain by Elegancia               China    \n",
       "3  Mercure Paris 19 Philharmonie La Villette      United Kingdom    \n",
       "4                Golden Tulip Amsterdam West              Poland    \n",
       "\n",
       "       negative_review  review_total_negative_word_counts  \\\n",
       "0             Leaving                                   3   \n",
       "1       poor breakfast                                  3   \n",
       "2   No kettle in room                                   6   \n",
       "3          No Negative                                  0   \n",
       "4         Torn sheets                                   4   \n",
       "\n",
       "   total_number_of_reviews                                    positive_review  \\\n",
       "0                     1994                                 Staff were amazing   \n",
       "1                     1361                                           location   \n",
       "2                      406                                        No Positive   \n",
       "3                      607   Friendly staff quiet comfortable room spotles...   \n",
       "4                     7586   The staff was very friendly and helpful Break...   \n",
       "\n",
       "   review_total_positive_word_counts  \\\n",
       "0                                  4   \n",
       "1                                  2   \n",
       "2                                  0   \n",
       "3                                 11   \n",
       "4                                 20   \n",
       "\n",
       "   total_number_of_reviews_reviewer_has_given  reviewer_score  \\\n",
       "0                                           7            10.0   \n",
       "1                                          14             6.3   \n",
       "2                                          14             7.5   \n",
       "3                                           8            10.0   \n",
       "4                                          10             9.6   \n",
       "\n",
       "                                                tags days_since_review  \\\n",
       "0  [' Leisure trip ', ' Couple ', ' Studio Suite ...           531 day   \n",
       "1  [' Business trip ', ' Couple ', ' Standard Dou...           203 day   \n",
       "2  [' Leisure trip ', ' Solo traveler ', ' Modern...           289 day   \n",
       "3  [' Leisure trip ', ' Solo traveler ', ' Standa...           681 day   \n",
       "4  [' Business trip ', ' Couple ', ' Standard Dou...           516 day   \n",
       "\n",
       "         lat       lng  \n",
       "0  51.507894 -0.143671  \n",
       "1  51.521009 -0.123097  \n",
       "2  48.845377  2.325643  \n",
       "3  48.888697  2.394540  \n",
       "4  52.385601  4.847060  "
      ]
     },
     "execution_count": 36,
     "metadata": {},
     "output_type": "execute_result"
    }
   ],
   "source": [
    "import pandas as pd\n",
    "import numpy as np\n",
    "import seaborn as sns\n",
    "import matplotlib.pyplot as plt\n",
    "import sklearn\n",
    "from category_encoders import BinaryEncoder\n",
    "import category_encoders as ce \n",
    "from sklearn.preprocessing import RobustScaler\n",
    "from category_encoders import TargetEncoder\n",
    "import scipy.stats as stats\n",
    "import geopy\n",
    "\n",
    "\n",
    "\n",
    "hotels = pd.read_csv('C:/Users/Lenovo/IDE/SFDS/data/Bookingdat/hotels.csv')\n",
    "hotels.head()"
   ]
  },
  {
   "cell_type": "code",
   "execution_count": 37,
   "id": "8cf70b7c",
   "metadata": {},
   "outputs": [
    {
     "name": "stdout",
     "output_type": "stream",
     "text": [
      "<class 'pandas.core.frame.DataFrame'>\n",
      "RangeIndex: 386803 entries, 0 to 386802\n",
      "Data columns (total 17 columns):\n",
      " #   Column                                      Non-Null Count   Dtype  \n",
      "---  ------                                      --------------   -----  \n",
      " 0   hotel_address                               386803 non-null  object \n",
      " 1   additional_number_of_scoring                386803 non-null  int64  \n",
      " 2   review_date                                 386803 non-null  object \n",
      " 3   average_score                               386803 non-null  float64\n",
      " 4   hotel_name                                  386803 non-null  object \n",
      " 5   reviewer_nationality                        386803 non-null  object \n",
      " 6   negative_review                             386803 non-null  object \n",
      " 7   review_total_negative_word_counts           386803 non-null  int64  \n",
      " 8   total_number_of_reviews                     386803 non-null  int64  \n",
      " 9   positive_review                             386803 non-null  object \n",
      " 10  review_total_positive_word_counts           386803 non-null  int64  \n",
      " 11  total_number_of_reviews_reviewer_has_given  386803 non-null  int64  \n",
      " 12  reviewer_score                              386803 non-null  float64\n",
      " 13  tags                                        386803 non-null  object \n",
      " 14  days_since_review                           386803 non-null  object \n",
      " 15  lat                                         384355 non-null  float64\n",
      " 16  lng                                         384355 non-null  float64\n",
      "dtypes: float64(4), int64(5), object(8)\n",
      "memory usage: 50.2+ MB\n"
     ]
    }
   ],
   "source": [
    "hotels.info()"
   ]
  },
  {
   "cell_type": "markdown",
   "id": "3be99bd2",
   "metadata": {},
   "source": [
    "# Обработка данных"
   ]
  },
  {
   "cell_type": "code",
   "execution_count": 38,
   "id": "08b8cff8",
   "metadata": {},
   "outputs": [],
   "source": [
    "df = hotels.copy()"
   ]
  },
  {
   "cell_type": "code",
   "execution_count": 39,
   "id": "5b0ba176",
   "metadata": {},
   "outputs": [
    {
     "name": "stdout",
     "output_type": "stream",
     "text": [
      "['Austria Trend Hotel Schloss Wilhelminenberg Wien'\n",
      " 'Holiday Inn Paris Montmartre' 'Fleming s Selection Hotel Wien City'\n",
      " 'Hotel Atlanta' 'Maison Albar Hotel Paris Op ra Diamond'\n",
      " 'Derag Livinghotel Kaiser Franz Joseph Vienna' 'Hotel City Central'\n",
      " 'NH Collection Barcelona Podium' 'City Hotel Deutschmeister'\n",
      " 'Hotel Daniel Vienna' 'Roomz Vienna' 'Hotel Pension Baron am Schottentor'\n",
      " 'Mercure Paris Gare Montparnasse' 'Hotel Park Villa' 'Hotel Advance'\n",
      " 'Renaissance Barcelona Hotel' 'Cordial Theaterhotel Wien']\n"
     ]
    }
   ],
   "source": [
    "hotels_with_missing_geo = df[df['lat'].isna() | df['lng'].isna()]['hotel_name'].unique()\n",
    "print(hotels_with_missing_geo)"
   ]
  },
  {
   "cell_type": "markdown",
   "id": "3a82caf2",
   "metadata": {},
   "source": [
    "Не удалось продключить автоматизированное заполнение геоданных.Сделал это вручную"
   ]
  },
  {
   "cell_type": "code",
   "execution_count": 40,
   "id": "6c3a5c3a",
   "metadata": {},
   "outputs": [],
   "source": [
    "manual_geo = {\n",
    "    \"Austria Trend Hotel Schloss Wilhelminenberg\": {\"lat\": 48.2167, \"lng\": 16.2833},\n",
    "    \"Holiday Inn Paris\": {\"lat\": 48.8925, \"lng\": 2.3456},\n",
    "    \"Flemings Selection Hotel Wien-City\": {\"lat\": 48.2110, \"lng\": 16.3560},\n",
    "    \"Derag Livinghotel Kaiser Franz Joseph\": {\"lat\": 48.2486, \"lng\": 16.3347},\n",
    "    \"Hotel City - Central\": {\"lat\": 50.0741560, \"lng\": 14.4289463},\n",
    "    \"NH Collection Barcelona Podium\": {\"lat\": 41.391548, \"lng\": 2.177894},\n",
    "    \"City Hotel Deutschmeister\": {\"lat\": 48.2200, \"lng\": 16.3600}, \n",
    "    \"Hotel Daniel Vienna\": {\"lat\": 48.1910, \"lng\": 16.3800},\n",
    "    \"Hotel Atlanta\": {\"lat\": 51.9198, \"lng\": 4.4775},\n",
    "    \"Maison Albar Hotel Paris Op ra Diamond\": {\"lat\": 48.875261, \"lng\": 2.323395},\n",
    "    \"Roomz Vienna\": {\"lat\": 48.186625, \"lng\": 16.420525},\n",
    "    \"Hotel Pension Baron am Schottentor\": {\"lat\": 48.21796, \"lng\": 16.35871},\n",
    "    \"Mercure Paris Gare Montparnasse\": {\"lat\": 48.840086, \"lng\": 2.323844},\n",
    "    \"Hotel Park Villa\": {\"lat\": 48.2334207, \"lng\": 16.3464975},\n",
    "    \"Hotel Advance\": {\"lat\": 41.383308, \"lng\": 2.162829},\n",
    "    \"Renaissance Barcelona Hotel\": {\"lat\": 41.392612, \"lng\": 2.162829},\n",
    "    \"Cordial Theaterhotel Wien\": {\"lat\": 48.20945, \"lng\": 16.351479}\n",
    "}\n",
    "\n",
    "# Заполнение пропусков в DataFrame\n",
    "for hotel, coords in manual_geo.items():\n",
    "    mask = df['hotel_name'].str.contains(hotel, case=False, na=False)\n",
    "    df.loc[mask, ['lat', 'lng']] = [coords['lat'], coords['lng']]"
   ]
  },
  {
   "cell_type": "code",
   "execution_count": 41,
   "id": "c9b547b2",
   "metadata": {},
   "outputs": [],
   "source": [
    "df['review_date'] = pd.to_datetime(df['review_date'])"
   ]
  },
  {
   "cell_type": "code",
   "execution_count": 42,
   "id": "423f50c7",
   "metadata": {},
   "outputs": [],
   "source": [
    "df['review_year'] = df['review_date'].dt.year\n",
    "df['review_month'] = df['review_date'].dt.month\n",
    "df['review_day'] = df['review_date'].dt.day"
   ]
  },
  {
   "cell_type": "code",
   "execution_count": 43,
   "id": "bce14b82",
   "metadata": {},
   "outputs": [],
   "source": [
    "df['days_since_review'] = df['days_since_review'].str.replace(r'[^\\d]+', '', regex=True) "
   ]
  },
  {
   "cell_type": "markdown",
   "id": "8ebd533b",
   "metadata": {},
   "source": [
    "Описательная  статистика"
   ]
  },
  {
   "cell_type": "code",
   "execution_count": 44,
   "id": "76cca3c1",
   "metadata": {},
   "outputs": [
    {
     "data": {
      "text/html": [
       "<div>\n",
       "<style scoped>\n",
       "    .dataframe tbody tr th:only-of-type {\n",
       "        vertical-align: middle;\n",
       "    }\n",
       "\n",
       "    .dataframe tbody tr th {\n",
       "        vertical-align: top;\n",
       "    }\n",
       "\n",
       "    .dataframe thead th {\n",
       "        text-align: right;\n",
       "    }\n",
       "</style>\n",
       "<table border=\"1\" class=\"dataframe\">\n",
       "  <thead>\n",
       "    <tr style=\"text-align: right;\">\n",
       "      <th></th>\n",
       "      <th>additional_number_of_scoring</th>\n",
       "      <th>average_score</th>\n",
       "      <th>review_total_negative_word_counts</th>\n",
       "      <th>total_number_of_reviews</th>\n",
       "      <th>review_total_positive_word_counts</th>\n",
       "      <th>total_number_of_reviews_reviewer_has_given</th>\n",
       "      <th>reviewer_score</th>\n",
       "      <th>lat</th>\n",
       "      <th>lng</th>\n",
       "    </tr>\n",
       "  </thead>\n",
       "  <tbody>\n",
       "    <tr>\n",
       "      <th>count</th>\n",
       "      <td>386803.000000</td>\n",
       "      <td>386803.000000</td>\n",
       "      <td>386803.000000</td>\n",
       "      <td>386803.000000</td>\n",
       "      <td>386803.000000</td>\n",
       "      <td>386803.00000</td>\n",
       "      <td>386803.000000</td>\n",
       "      <td>385886.000000</td>\n",
       "      <td>385886.000000</td>\n",
       "    </tr>\n",
       "    <tr>\n",
       "      <th>mean</th>\n",
       "      <td>498.246536</td>\n",
       "      <td>8.397231</td>\n",
       "      <td>18.538988</td>\n",
       "      <td>2743.992042</td>\n",
       "      <td>17.776985</td>\n",
       "      <td>7.17725</td>\n",
       "      <td>8.396906</td>\n",
       "      <td>49.439247</td>\n",
       "      <td>2.851573</td>\n",
       "    </tr>\n",
       "    <tr>\n",
       "      <th>std</th>\n",
       "      <td>500.258012</td>\n",
       "      <td>0.547881</td>\n",
       "      <td>29.703369</td>\n",
       "      <td>2316.457018</td>\n",
       "      <td>21.726141</td>\n",
       "      <td>11.05442</td>\n",
       "      <td>1.636090</td>\n",
       "      <td>3.465016</td>\n",
       "      <td>4.610813</td>\n",
       "    </tr>\n",
       "    <tr>\n",
       "      <th>min</th>\n",
       "      <td>1.000000</td>\n",
       "      <td>5.200000</td>\n",
       "      <td>0.000000</td>\n",
       "      <td>43.000000</td>\n",
       "      <td>0.000000</td>\n",
       "      <td>1.00000</td>\n",
       "      <td>2.500000</td>\n",
       "      <td>41.328376</td>\n",
       "      <td>-0.369758</td>\n",
       "    </tr>\n",
       "    <tr>\n",
       "      <th>25%</th>\n",
       "      <td>169.000000</td>\n",
       "      <td>8.100000</td>\n",
       "      <td>2.000000</td>\n",
       "      <td>1161.000000</td>\n",
       "      <td>5.000000</td>\n",
       "      <td>1.00000</td>\n",
       "      <td>7.500000</td>\n",
       "      <td>48.214277</td>\n",
       "      <td>-0.143372</td>\n",
       "    </tr>\n",
       "    <tr>\n",
       "      <th>50%</th>\n",
       "      <td>342.000000</td>\n",
       "      <td>8.400000</td>\n",
       "      <td>9.000000</td>\n",
       "      <td>2134.000000</td>\n",
       "      <td>11.000000</td>\n",
       "      <td>3.00000</td>\n",
       "      <td>8.800000</td>\n",
       "      <td>51.499981</td>\n",
       "      <td>0.019886</td>\n",
       "    </tr>\n",
       "    <tr>\n",
       "      <th>75%</th>\n",
       "      <td>660.000000</td>\n",
       "      <td>8.800000</td>\n",
       "      <td>23.000000</td>\n",
       "      <td>3613.000000</td>\n",
       "      <td>22.000000</td>\n",
       "      <td>8.00000</td>\n",
       "      <td>9.600000</td>\n",
       "      <td>51.516288</td>\n",
       "      <td>4.834443</td>\n",
       "    </tr>\n",
       "    <tr>\n",
       "      <th>max</th>\n",
       "      <td>2682.000000</td>\n",
       "      <td>9.800000</td>\n",
       "      <td>408.000000</td>\n",
       "      <td>16670.000000</td>\n",
       "      <td>395.000000</td>\n",
       "      <td>355.00000</td>\n",
       "      <td>10.000000</td>\n",
       "      <td>52.400181</td>\n",
       "      <td>16.429233</td>\n",
       "    </tr>\n",
       "  </tbody>\n",
       "</table>\n",
       "</div>"
      ],
      "text/plain": [
       "       additional_number_of_scoring  average_score  \\\n",
       "count                 386803.000000  386803.000000   \n",
       "mean                     498.246536       8.397231   \n",
       "std                      500.258012       0.547881   \n",
       "min                        1.000000       5.200000   \n",
       "25%                      169.000000       8.100000   \n",
       "50%                      342.000000       8.400000   \n",
       "75%                      660.000000       8.800000   \n",
       "max                     2682.000000       9.800000   \n",
       "\n",
       "       review_total_negative_word_counts  total_number_of_reviews  \\\n",
       "count                      386803.000000            386803.000000   \n",
       "mean                           18.538988              2743.992042   \n",
       "std                            29.703369              2316.457018   \n",
       "min                             0.000000                43.000000   \n",
       "25%                             2.000000              1161.000000   \n",
       "50%                             9.000000              2134.000000   \n",
       "75%                            23.000000              3613.000000   \n",
       "max                           408.000000             16670.000000   \n",
       "\n",
       "       review_total_positive_word_counts  \\\n",
       "count                      386803.000000   \n",
       "mean                           17.776985   \n",
       "std                            21.726141   \n",
       "min                             0.000000   \n",
       "25%                             5.000000   \n",
       "50%                            11.000000   \n",
       "75%                            22.000000   \n",
       "max                           395.000000   \n",
       "\n",
       "       total_number_of_reviews_reviewer_has_given  reviewer_score  \\\n",
       "count                                386803.00000   386803.000000   \n",
       "mean                                      7.17725        8.396906   \n",
       "std                                      11.05442        1.636090   \n",
       "min                                       1.00000        2.500000   \n",
       "25%                                       1.00000        7.500000   \n",
       "50%                                       3.00000        8.800000   \n",
       "75%                                       8.00000        9.600000   \n",
       "max                                     355.00000       10.000000   \n",
       "\n",
       "                 lat            lng  \n",
       "count  385886.000000  385886.000000  \n",
       "mean       49.439247       2.851573  \n",
       "std         3.465016       4.610813  \n",
       "min        41.328376      -0.369758  \n",
       "25%        48.214277      -0.143372  \n",
       "50%        51.499981       0.019886  \n",
       "75%        51.516288       4.834443  \n",
       "max        52.400181      16.429233  "
      ]
     },
     "execution_count": 44,
     "metadata": {},
     "output_type": "execute_result"
    }
   ],
   "source": [
    "num_cols = df.select_dtypes(include=['int64', 'float64'])\n",
    "stats_num = num_cols.describe()\n",
    "stats_num"
   ]
  },
  {
   "cell_type": "code",
   "execution_count": 45,
   "id": "b543862c",
   "metadata": {},
   "outputs": [
    {
     "data": {
      "text/html": [
       "<div>\n",
       "<style scoped>\n",
       "    .dataframe tbody tr th:only-of-type {\n",
       "        vertical-align: middle;\n",
       "    }\n",
       "\n",
       "    .dataframe tbody tr th {\n",
       "        vertical-align: top;\n",
       "    }\n",
       "\n",
       "    .dataframe thead th {\n",
       "        text-align: right;\n",
       "    }\n",
       "</style>\n",
       "<table border=\"1\" class=\"dataframe\">\n",
       "  <thead>\n",
       "    <tr style=\"text-align: right;\">\n",
       "      <th></th>\n",
       "      <th>additional_number_of_scoring</th>\n",
       "      <th>average_score</th>\n",
       "      <th>review_total_negative_word_counts</th>\n",
       "      <th>total_number_of_reviews</th>\n",
       "      <th>review_total_positive_word_counts</th>\n",
       "      <th>total_number_of_reviews_reviewer_has_given</th>\n",
       "      <th>reviewer_score</th>\n",
       "      <th>lat</th>\n",
       "      <th>lng</th>\n",
       "    </tr>\n",
       "  </thead>\n",
       "  <tbody>\n",
       "    <tr>\n",
       "      <th>count</th>\n",
       "      <td>386803.000000</td>\n",
       "      <td>386803.000000</td>\n",
       "      <td>386803.000000</td>\n",
       "      <td>386803.000000</td>\n",
       "      <td>386803.000000</td>\n",
       "      <td>386803.00000</td>\n",
       "      <td>386803.000000</td>\n",
       "      <td>385886.000000</td>\n",
       "      <td>385886.000000</td>\n",
       "    </tr>\n",
       "    <tr>\n",
       "      <th>mean</th>\n",
       "      <td>498.246536</td>\n",
       "      <td>8.397231</td>\n",
       "      <td>18.538988</td>\n",
       "      <td>2743.992042</td>\n",
       "      <td>17.776985</td>\n",
       "      <td>7.17725</td>\n",
       "      <td>8.396906</td>\n",
       "      <td>49.439247</td>\n",
       "      <td>2.851573</td>\n",
       "    </tr>\n",
       "    <tr>\n",
       "      <th>std</th>\n",
       "      <td>500.258012</td>\n",
       "      <td>0.547881</td>\n",
       "      <td>29.703369</td>\n",
       "      <td>2316.457018</td>\n",
       "      <td>21.726141</td>\n",
       "      <td>11.05442</td>\n",
       "      <td>1.636090</td>\n",
       "      <td>3.465016</td>\n",
       "      <td>4.610813</td>\n",
       "    </tr>\n",
       "    <tr>\n",
       "      <th>min</th>\n",
       "      <td>1.000000</td>\n",
       "      <td>5.200000</td>\n",
       "      <td>0.000000</td>\n",
       "      <td>43.000000</td>\n",
       "      <td>0.000000</td>\n",
       "      <td>1.00000</td>\n",
       "      <td>2.500000</td>\n",
       "      <td>41.328376</td>\n",
       "      <td>-0.369758</td>\n",
       "    </tr>\n",
       "    <tr>\n",
       "      <th>25%</th>\n",
       "      <td>169.000000</td>\n",
       "      <td>8.100000</td>\n",
       "      <td>2.000000</td>\n",
       "      <td>1161.000000</td>\n",
       "      <td>5.000000</td>\n",
       "      <td>1.00000</td>\n",
       "      <td>7.500000</td>\n",
       "      <td>48.214277</td>\n",
       "      <td>-0.143372</td>\n",
       "    </tr>\n",
       "    <tr>\n",
       "      <th>50%</th>\n",
       "      <td>342.000000</td>\n",
       "      <td>8.400000</td>\n",
       "      <td>9.000000</td>\n",
       "      <td>2134.000000</td>\n",
       "      <td>11.000000</td>\n",
       "      <td>3.00000</td>\n",
       "      <td>8.800000</td>\n",
       "      <td>51.499981</td>\n",
       "      <td>0.019886</td>\n",
       "    </tr>\n",
       "    <tr>\n",
       "      <th>75%</th>\n",
       "      <td>660.000000</td>\n",
       "      <td>8.800000</td>\n",
       "      <td>23.000000</td>\n",
       "      <td>3613.000000</td>\n",
       "      <td>22.000000</td>\n",
       "      <td>8.00000</td>\n",
       "      <td>9.600000</td>\n",
       "      <td>51.516288</td>\n",
       "      <td>4.834443</td>\n",
       "    </tr>\n",
       "    <tr>\n",
       "      <th>max</th>\n",
       "      <td>2682.000000</td>\n",
       "      <td>9.800000</td>\n",
       "      <td>408.000000</td>\n",
       "      <td>16670.000000</td>\n",
       "      <td>395.000000</td>\n",
       "      <td>355.00000</td>\n",
       "      <td>10.000000</td>\n",
       "      <td>52.400181</td>\n",
       "      <td>16.429233</td>\n",
       "    </tr>\n",
       "  </tbody>\n",
       "</table>\n",
       "</div>"
      ],
      "text/plain": [
       "       additional_number_of_scoring  average_score  \\\n",
       "count                 386803.000000  386803.000000   \n",
       "mean                     498.246536       8.397231   \n",
       "std                      500.258012       0.547881   \n",
       "min                        1.000000       5.200000   \n",
       "25%                      169.000000       8.100000   \n",
       "50%                      342.000000       8.400000   \n",
       "75%                      660.000000       8.800000   \n",
       "max                     2682.000000       9.800000   \n",
       "\n",
       "       review_total_negative_word_counts  total_number_of_reviews  \\\n",
       "count                      386803.000000            386803.000000   \n",
       "mean                           18.538988              2743.992042   \n",
       "std                            29.703369              2316.457018   \n",
       "min                             0.000000                43.000000   \n",
       "25%                             2.000000              1161.000000   \n",
       "50%                             9.000000              2134.000000   \n",
       "75%                            23.000000              3613.000000   \n",
       "max                           408.000000             16670.000000   \n",
       "\n",
       "       review_total_positive_word_counts  \\\n",
       "count                      386803.000000   \n",
       "mean                           17.776985   \n",
       "std                            21.726141   \n",
       "min                             0.000000   \n",
       "25%                             5.000000   \n",
       "50%                            11.000000   \n",
       "75%                            22.000000   \n",
       "max                           395.000000   \n",
       "\n",
       "       total_number_of_reviews_reviewer_has_given  reviewer_score  \\\n",
       "count                                386803.00000   386803.000000   \n",
       "mean                                      7.17725        8.396906   \n",
       "std                                      11.05442        1.636090   \n",
       "min                                       1.00000        2.500000   \n",
       "25%                                       1.00000        7.500000   \n",
       "50%                                       3.00000        8.800000   \n",
       "75%                                       8.00000        9.600000   \n",
       "max                                     355.00000       10.000000   \n",
       "\n",
       "                 lat            lng  \n",
       "count  385886.000000  385886.000000  \n",
       "mean       49.439247       2.851573  \n",
       "std         3.465016       4.610813  \n",
       "min        41.328376      -0.369758  \n",
       "25%        48.214277      -0.143372  \n",
       "50%        51.499981       0.019886  \n",
       "75%        51.516288       4.834443  \n",
       "max        52.400181      16.429233  "
      ]
     },
     "execution_count": 45,
     "metadata": {},
     "output_type": "execute_result"
    }
   ],
   "source": [
    "cat_cols = df.select_dtypes(include=['object'])\n",
    "stats_num = num_cols.describe()\n",
    "stats_num"
   ]
  },
  {
   "cell_type": "markdown",
   "id": "a38c2be6",
   "metadata": {},
   "source": [
    "# Визуадизация "
   ]
  },
  {
   "cell_type": "code",
   "execution_count": 46,
   "id": "822e8dba",
   "metadata": {},
   "outputs": [
    {
     "data": {
      "image/png": "[encoded data removed]",
      "text/plain": [
       "<Figure size 1500x500 with 2 Axes>"
      ]
     },
     "metadata": {},
     "output_type": "display_data"
    }
   ],
   "source": [
    "fig, axes = plt.subplots(1, 2, figsize=(15, 5))\n",
    "\n",
    "# Гистограмма в axes[0]\n",
    "sns.histplot(df['average_score'], kde=True, ax=axes[0])\n",
    "axes[0].set(xlabel='Mid score', ylabel='Freq')\n",
    "axes[0].set_title('Mid')\n",
    "axes[0].axvline(df['average_score'].mean(), color='red', linestyle='--', linewidth=0.8)\n",
    "\n",
    "# Боксплот в axes[1]sns.boxplot(df['average_score'], orient='h', ax=axes[1], medianprops={\"color\": \"red\", \"linestyle\": '--'})\n",
    "sns.boxplot(df['average_score'], orient='h', ax=axes[1], \n",
    "            medianprops={\"color\": \"red\", \"linestyle\": '--'})\n",
    "axes[1].set(xlabel='Mid score')\n",
    "axes[1].set_title('Boxplot score')\n",
    "\n",
    "\n",
    "plt.tight_layout()  # Чтобы избежать наложения подписей\n",
    "plt.show()"
   ]
  },
  {
   "cell_type": "code",
   "execution_count": 47,
   "id": "f778930f",
   "metadata": {},
   "outputs": [
    {
     "data": {
      "text/plain": [
       "<Axes: >"
      ]
     },
     "execution_count": 47,
     "metadata": {},
     "output_type": "execute_result"
    },
    {
     "data": {
      "image/png": "[encoded data removed]",
      "text/plain": [
       "<Figure size 640x480 with 2 Axes>"
      ]
     },
     "metadata": {},
     "output_type": "display_data"
    }
   ],
   "source": [
    "sns.heatmap(num_cols.corr(), annot=True)"
   ]
  },
  {
   "cell_type": "markdown",
   "id": "da6fe8d6",
   "metadata": {},
   "source": [
    "# и Cтатистические тесты"
   ]
  },
  {
   "cell_type": "markdown",
   "id": "8a9aa958",
   "metadata": {},
   "source": [
    "Проверка на нормальность данных"
   ]
  },
  {
   "cell_type": "code",
   "execution_count": 48,
   "id": "fd724d34",
   "metadata": {},
   "outputs": [
    {
     "name": "stdout",
     "output_type": "stream",
     "text": [
      "Shapiro : 7.924679341903614e-159\n",
      "Shapiro : 3.691117557932966e-149\n",
      "Shapiro : 2.9785462128223767e-189\n"
     ]
    },
    {
     "name": "stderr",
     "output_type": "stream",
     "text": [
      "c:\\Users\\Lenovo\\AppData\\Local\\Programs\\Python\\Python313\\Lib\\site-packages\\scipy\\stats\\_axis_nan_policy.py:579: UserWarning: scipy.stats.shapiro: For N > 5000, computed p-value may not be accurate. Current N is 386803.\n",
      "  res = hypotest_fun_out(*samples, **kwds)\n"
     ]
    }
   ],
   "source": [
    "from scipy.stats import shapiro\n",
    "\n",
    "group_tot_num_rev = df['total_number_of_reviews']\n",
    "group_revr_score = df['reviewer_score']\n",
    "group_tot_num_has_giv = df['total_number_of_reviews_reviewer_has_given']\n",
    "\n",
    "print(\"Shapiro :\", shapiro(group_tot_num_rev).pvalue)\n",
    "print(\"Shapiro :\", shapiro(group_revr_score).pvalue)\n",
    "print(\"Shapiro :\", shapiro(group_tot_num_has_giv).pvalue)\n"
   ]
  },
  {
   "cell_type": "markdown",
   "id": "60dd556c",
   "metadata": {},
   "source": [
    "Данные ненормальные применяю метод Краскела-Уолиса"
   ]
  },
  {
   "cell_type": "markdown",
   "id": "6a8d6786",
   "metadata": {},
   "source": [
    "\n",
    "**Сформулируем нулевую и альтернативные гипотезы**\n",
    "\n",
    "*Нулевая гипотеза* ($H_0$): Зарплаты одинаковы.\n",
    "\n",
    "\n",
    "*Альтернативная гипотеза* ($H_1$): Зарплаты DS-специалистов в разных по размеру компаниях неодинаковы."
   ]
  },
  {
   "cell_type": "code",
   "execution_count": 49,
   "id": "6b855951",
   "metadata": {},
   "outputs": [
    {
     "name": "stdout",
     "output_type": "stream",
     "text": [
      "p-value = 0.000\n",
      "p-значение меньше, чем заданный уровень значимости 0.05. Отвергаем нулевую гипотезу.\n"
     ]
    }
   ],
   "source": [
    "alpha = 0.05 # берём стандартное значение\n",
    "\n",
    "_, p = stats.kruskal(group_tot_num_rev, group_revr_score, group_tot_num_has_giv)\n",
    "\n",
    "print('p-value = {:.3f}'.format(p))\n",
    "\n",
    "if p <= alpha:\n",
    "    print('p-значение меньше, чем заданный уровень значимости {:.2f}. Отвергаем нулевую гипотезу.'.format(alpha))\n",
    "else:\n",
    "    print('p-значение больше, чем заданный уровень значимости {:.2f}. У нас нет оснований отвергнуть нулевую гипотезу.'.format(alpha))"
   ]
  },
  {
   "cell_type": "markdown",
   "id": "36a20a8c",
   "metadata": {},
   "source": [
    "Тест даёт нам понять что признаки не равны в своих весах на среднее значение рейтинга"
   ]
  },
  {
   "cell_type": "markdown",
   "id": "5f822f42",
   "metadata": {},
   "source": [
    "Проверка ещё ожних признаков на значимость"
   ]
  },
  {
   "cell_type": "code",
   "execution_count": 50,
   "id": "915c471e",
   "metadata": {},
   "outputs": [
    {
     "name": "stdout",
     "output_type": "stream",
     "text": [
      "Shapiro : 1.9790810504531338e-119\n",
      "Shapiro : 4.0516277998666655e-113\n",
      "Shapiro : 8.576384769838011e-162\n"
     ]
    }
   ],
   "source": [
    "gr_rev_mth = df['review_month']\n",
    "gr_s_rev = df['days_since_review']\n",
    "gr_rev_year = df['review_year']  \n",
    "\n",
    "\n",
    "print(\"Shapiro :\", shapiro(gr_rev_mth).pvalue)\n",
    "print(\"Shapiro :\", shapiro(gr_s_rev).pvalue)\n",
    "print(\"Shapiro :\", shapiro(gr_rev_year).pvalue)"
   ]
  },
  {
   "cell_type": "markdown",
   "id": "c3f5d630",
   "metadata": {},
   "source": [
    "Данные снова не нормальные"
   ]
  },
  {
   "cell_type": "markdown",
   "id": "d0ac2185",
   "metadata": {},
   "source": [
    "\n",
    "**Сформулируем нулевую и альтернативные гипотезы**\n",
    "\n",
    "*Нулевая гипотеза* ($H_0$): Зарплаты одинаковы.\n",
    "\n",
    "\n",
    "*Альтернативная гипотеза* ($H_1$): Зарплаты DS-специалистов в разных по размеру компаниях неодинаковы."
   ]
  },
  {
   "cell_type": "code",
   "execution_count": 51,
   "id": "f92126dd",
   "metadata": {},
   "outputs": [
    {
     "name": "stdout",
     "output_type": "stream",
     "text": [
      "p-value = 0.000\n",
      "p-значение меньше, чем заданный уровень значимости 0.05. Отвергаем нулевую гипотезу.\n"
     ]
    }
   ],
   "source": [
    "alpha = 0.05 # берём стандартное значение\n",
    "\n",
    "_, p = stats.kruskal(gr_rev_mth, gr_rev_year)\n",
    "\n",
    "print('p-value = {:.3f}'.format(p))\n",
    "\n",
    "if p <= alpha:\n",
    "    print('p-значение меньше, чем заданный уровень значимости {:.2f}. Отвергаем нулевую гипотезу.'.format(alpha))\n",
    "else:\n",
    "    print('p-значение больше, чем заданный уровень значимости {:.2f}. У нас нет оснований отвергнуть нулевую гипотезу.'.format(alpha))"
   ]
  },
  {
   "cell_type": "markdown",
   "id": "9152b99c",
   "metadata": {},
   "source": [
    "Тест даёт нам понять что признаки не равны в своих весах на среднее значение рейтинга"
   ]
  },
  {
   "cell_type": "code",
   "execution_count": 52,
   "id": "591a82ca",
   "metadata": {},
   "outputs": [
    {
     "name": "stdout",
     "output_type": "stream",
     "text": [
      "                             feature       VIF\n",
      "0                     reviewer_score  3.026046\n",
      "1            total_number_of_reviews  2.219545\n",
      "2  review_total_positive_word_counts  1.749746\n"
     ]
    }
   ],
   "source": [
    "from statsmodels.stats.outliers_influence import variance_inflation_factor\n",
    "\n",
    "# Расчёт VIF\n",
    "X = df[['reviewer_score', 'total_number_of_reviews', 'review_total_positive_word_counts']]\n",
    "vif_data = pd.DataFrame()\n",
    "vif_data[\"feature\"] = X.columns\n",
    "vif_data[\"VIF\"] = [variance_inflation_factor(X.values, i) for i in range(X.shape[1])]\n",
    "print(vif_data)"
   ]
  },
  {
   "cell_type": "markdown",
   "id": "43d2a8ae",
   "metadata": {},
   "source": []
  },
  {
   "cell_type": "code",
   "execution_count": 53,
   "id": "10307497",
   "metadata": {},
   "outputs": [],
   "source": [
    "top_tags = pd.Series([tag for sublist in df['tags'] for tag in sublist]).value_counts().head(5).index\n",
    "\n",
    "for tag in top_tags:\n",
    "    df[f'tag_{tag}'] = df['tags'].apply(lambda x: 1 if tag in x else 0)\n",
    "\n",
    "# Удаляем исходный столбец\n",
    "df.drop('tags', axis=1, inplace=True)"
   ]
  },
  {
   "cell_type": "markdown",
   "id": "5ee799a8",
   "metadata": {},
   "source": [
    "# Новые признаки\n"
   ]
  },
  {
   "cell_type": "markdown",
   "id": "b8bb1250",
   "metadata": {},
   "source": [
    "Временные признаки"
   ]
  },
  {
   "cell_type": "code",
   "execution_count": 54,
   "id": "9e9bf59d",
   "metadata": {},
   "outputs": [],
   "source": [
    "# День недели отзыва (понедельник=0, воскресенье=6)\n",
    "df['review_day_of_week'] = pd.to_datetime(df['review_date']).dt.dayofweek\n",
    "\n",
    "# Время года (сезон)\n",
    "df['review_season'] = pd.to_datetime(df['review_date']).dt.month % 12 // 3 + 1  # 1-зима, 2-весна и т.д.\n",
    "\n",
    "# Разница между датой отзыва и текущей датой (актуальность)\n",
    "df['days_since_review_to_today'] = (pd.to_datetime('today') - pd.to_datetime(df['review_date'])).dt.days"
   ]
  },
  {
   "cell_type": "markdown",
   "id": "7131f1e9",
   "metadata": {},
   "source": [
    "Активность рецензента "
   ]
  },
  {
   "cell_type": "code",
   "execution_count": 55,
   "id": "0896aea3",
   "metadata": {},
   "outputs": [],
   "source": [
    "# Средняя оценка рецензента по всем его отзывам\n",
    "df['reviewer_avg_score'] = df.groupby('reviewer_nationality')['reviewer_score'].transform('mean')\n",
    "\n",
    "# Отношение числа отзывов рецензента к среднему по датасету\n",
    "df['reviewer_activity_ratio'] = df['total_number_of_reviews_reviewer_has_given'] / df['total_number_of_reviews_reviewer_has_given'].mean()\n",
    "\n",
    "# Время между отзывами рецензента (если есть временная последовательность)\n",
    "df['days_since_last_review'] = df.groupby('reviewer_nationality')['review_date'].diff().dt.days"
   ]
  },
  {
   "cell_type": "markdown",
   "id": "2fb7242b",
   "metadata": {},
   "source": [
    "Отношение признаков"
   ]
  },
  {
   "cell_type": "code",
   "execution_count": 56,
   "id": "5d82da53",
   "metadata": {},
   "outputs": [],
   "source": [
    "# Разница между оценкой рецензента и средним баллом отеля\n",
    "df['score_diff'] = df['reviewer_score'] - df['average_score']"
   ]
  },
  {
   "cell_type": "markdown",
   "id": "fa0ee5d3",
   "metadata": {},
   "source": [
    "# Очистка непригодных признаков(на мой взгляд)"
   ]
  },
  {
   "cell_type": "code",
   "execution_count": 57,
   "id": "13821f44",
   "metadata": {},
   "outputs": [
    {
     "data": {
      "text/plain": [
       "Index(['hotel_address', 'additional_number_of_scoring', 'review_date',\n",
       "       'average_score', 'hotel_name', 'reviewer_nationality',\n",
       "       'negative_review', 'review_total_negative_word_counts',\n",
       "       'total_number_of_reviews', 'positive_review',\n",
       "       'review_total_positive_word_counts',\n",
       "       'total_number_of_reviews_reviewer_has_given', 'reviewer_score',\n",
       "       'days_since_review', 'lat', 'lng', 'review_year', 'review_month',\n",
       "       'review_day', 'tag_ ', 'tag_'', 'tag_e', 'tag_i', 'tag_o',\n",
       "       'review_day_of_week', 'review_season', 'days_since_review_to_today',\n",
       "       'reviewer_avg_score', 'reviewer_activity_ratio',\n",
       "       'days_since_last_review', 'score_diff'],\n",
       "      dtype='object')"
      ]
     },
     "execution_count": 57,
     "metadata": {},
     "output_type": "execute_result"
    }
   ],
   "source": [
    "df.columns"
   ]
  },
  {
   "cell_type": "code",
   "execution_count": 58,
   "id": "33fce239",
   "metadata": {},
   "outputs": [],
   "source": [
    "# Удаляю эти признаки,так как у нас есть признаки с подсчитаннымми негативными и позитивными словами\n",
    "# Которые мы можем перекодировать.В противном случае потребовалась бы обрабортка этих признаков\n",
    "# Ещё можно удалить адресса отелей так, геолокация в какойто степени дублирует этот признак(о я пока этого делать не буду)\n",
    "\n",
    "df.drop('additional_number_of_scoring', axis=1, inplace=True) #удаляем так как он мультикол-н и менее информативен по сравнению с total_number_of_reviews\n",
    "df.drop('positive_review', axis=1, inplace=True)\n",
    "df.drop('negative_review', axis=1, inplace=True)"
   ]
  },
  {
   "cell_type": "markdown",
   "id": "b767f19c",
   "metadata": {},
   "source": [
    "# Кодировка признаков"
   ]
  },
  {
   "cell_type": "code",
   "execution_count": 59,
   "id": "3171f79d",
   "metadata": {},
   "outputs": [],
   "source": [
    "binary_encoder = BinaryEncoder(cols=['days_since_review'])\n",
    "encoded = binary_encoder.fit_transform(df[['days_since_review']])\n",
    "df = pd.concat([df, encoded], axis=1)"
   ]
  },
  {
   "cell_type": "code",
   "execution_count": 60,
   "id": "33a64340",
   "metadata": {},
   "outputs": [],
   "source": [
    "encoder = ce.OneHotEncoder(cols=['review_year'], use_cat_names=True) \n",
    "type_bin = encoder.fit_transform(df['review_year'])\n",
    "df = pd.concat([df, type_bin], axis=1)"
   ]
  },
  {
   "cell_type": "code",
   "execution_count": 61,
   "id": "486fd0f6",
   "metadata": {},
   "outputs": [],
   "source": [
    "encoder = ce.OneHotEncoder(cols=['review_day'], use_cat_names=True) \n",
    "type_bin = encoder.fit_transform(df['review_day'])\n",
    "df = pd.concat([df, type_bin], axis=1)"
   ]
  },
  {
   "cell_type": "code",
   "execution_count": 62,
   "id": "108f27fa",
   "metadata": {},
   "outputs": [],
   "source": [
    "binary_encoder = BinaryEncoder(cols=['review_year'])\n",
    "train_encoded = binary_encoder.fit_transform(df[['review_year']])\n",
    "df = pd.concat([df, train_encoded], axis=1)"
   ]
  },
  {
   "cell_type": "code",
   "execution_count": 63,
   "id": "e8766fb1",
   "metadata": {},
   "outputs": [],
   "source": [
    "binary_encoder = BinaryEncoder(cols=['days_since_review'])\n",
    "encoded = binary_encoder.fit_transform(df[['days_since_review']])\n",
    "df = pd.concat([df, encoded], axis=1)"
   ]
  },
  {
   "cell_type": "code",
   "execution_count": 64,
   "id": "60074b39",
   "metadata": {},
   "outputs": [],
   "source": [
    "binary_encoder = BinaryEncoder(cols=['hotel_address'])\n",
    "encoded = binary_encoder.fit_transform(df[['hotel_address']])\n",
    "df = pd.concat([df, encoded], axis=1)\n",
    "df.drop('hotel_address', axis=1, inplace=True)"
   ]
  },
  {
   "cell_type": "code",
   "execution_count": 65,
   "id": "9af93d2f",
   "metadata": {},
   "outputs": [],
   "source": [
    "binary_encoder = BinaryEncoder(cols=['hotel_name'])\n",
    "encoded = binary_encoder.fit_transform(df[['hotel_name']])\n",
    "df = pd.concat([df, encoded], axis=1)\n",
    "df.drop('hotel_name', axis=1, inplace=True)"
   ]
  },
  {
   "cell_type": "code",
   "execution_count": 66,
   "id": "7b6cb520",
   "metadata": {},
   "outputs": [],
   "source": [
    "binary_encoder = BinaryEncoder(cols=['reviewer_nationality'])\n",
    "encoded = binary_encoder.fit_transform(df[['reviewer_nationality']])\n",
    "df = pd.concat([df, encoded], axis=1)\n",
    "df.drop('reviewer_nationality', axis=1, inplace=True)"
   ]
  },
  {
   "cell_type": "code",
   "execution_count": 67,
   "id": "a9e8e630",
   "metadata": {},
   "outputs": [],
   "source": [
    "binary_encoder = BinaryEncoder(cols=['days_since_review'])\n",
    "encoded = binary_encoder.fit_transform(df[['days_since_review']])\n",
    "df = pd.concat([df, encoded], axis=1)"
   ]
  },
  {
   "cell_type": "code",
   "execution_count": 68,
   "id": "43df4441",
   "metadata": {},
   "outputs": [],
   "source": [
    "df.drop('days_since_review',axis=1 ,inplace=True)"
   ]
  },
  {
   "cell_type": "code",
   "execution_count": 69,
   "id": "e7eb1b22",
   "metadata": {},
   "outputs": [],
   "source": [
    "df.drop('review_date', axis=1, inplace=True)"
   ]
  },
  {
   "cell_type": "markdown",
   "id": "9d2d2edd",
   "metadata": {},
   "source": [
    "# Модель обучения\n"
   ]
  },
  {
   "cell_type": "code",
   "execution_count": 70,
   "id": "83f442d5",
   "metadata": {},
   "outputs": [
    {
     "name": "stdout",
     "output_type": "stream",
     "text": [
      "MAPE: 0.00015554090900150362\n"
     ]
    }
   ],
   "source": [
    "# Разбиваем датафрейм на части, необходимые для обучения и тестирования модели  \n",
    "    # Х — данные с информацией об отелях, у — целевая переменная (рейтинги отелей)  \n",
    "X = df.drop(['reviewer_score'], axis = 1)  \n",
    "y = df['reviewer_score'] \n",
    "\n",
    "\n",
    "from sklearn.feature_selection import VarianceThreshold\n",
    "X = X\n",
    "sel = VarianceThreshold(threshold=(.8 * (1 - .8)))\n",
    "sel.fit_transform(X) \n",
    "      \n",
    "      \n",
    "    # Загружаем специальный инструмент для разбивки:  \n",
    "from sklearn.model_selection import train_test_split  \n",
    "      \n",
    "    # Наборы данных с меткой \"train\" будут использоваться для обучения модели, \"test\" — для тестирования.  \n",
    "    # Для тестирования мы будем использовать 25 % от исходного датасета.  \n",
    "X_train, X_test, y_train, y_test = train_test_split(X, y, test_size=0.25, random_state=42)\n",
    "\n",
    "\n",
    "# Импортируем необходимые библиотеки:  \n",
    "from sklearn.ensemble import RandomForestRegressor # инструмент для создания и обучения модели  \n",
    "from sklearn import metrics # инструменты для оценки точности модели  \n",
    "      \n",
    "    # Создаём модель  \n",
    "regr = RandomForestRegressor(n_estimators=100)  \n",
    "      \n",
    "    # Обучаем модель на тестовом наборе данных  \n",
    "regr.fit(X_train, y_train)  \n",
    "      \n",
    "    # Используем обученную модель для предсказания рейтинга отелей в тестовой выборке.  \n",
    "    # Предсказанные значения записываем в переменную y_pred  \n",
    "y_pred = regr.predict(X_test)\n",
    "\n",
    "    # Сравниваем предсказанные значения (y_pred) с реальными (y_test) и смотрим, насколько они отличаются  \n",
    "    # Метрика называется Mean Absolute Percentage Error (MAPE) и показывает среднюю абсолютную процентную ошибку предсказанных значений в отношении фактических.  \n",
    "print('MAPE:', metrics.mean_absolute_percentage_error(y_test, y_pred))"
   ]
  },
  {
   "cell_type": "code",
   "execution_count": 71,
   "id": "77d5f830",
   "metadata": {},
   "outputs": [],
   "source": [
    "a,b,c,d = 0.13319662243237387,0.13370915639119663,0.13377706436030937,0.1333508237592271"
   ]
  }
 ],
 "metadata": {
  "kernelspec": {
   "display_name": "Python 3",
   "language": "python",
   "name": "python3"
  },
  "language_info": {
   "codemirror_mode": {
    "name": "ipython",
    "version": 3
   },
   "file_extension": ".py",
   "mimetype": "text/x-python",
   "name": "python",
   "nbconvert_exporter": "python",
   "pygments_lexer": "ipython3",
   "version": "3.13.2"
  }
 },
 "nbformat": 4,
 "nbformat_minor": 5
}
